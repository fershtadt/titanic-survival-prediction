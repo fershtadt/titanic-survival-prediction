{
 "cells": [
  {
   "cell_type": "code",
   "execution_count": null,
   "id": "58e727f7",
   "metadata": {},
   "outputs": [],
   "source": [
    "import pandas as pd\n",
    "import seaborn as sns\n",
    "import matplotlib.pyplot as plt\n",
    "\n",
    "df = pd.read_csv('../data/train.csv')\n",
    "print(df.head())\n",
    "print(df.info())\n",
    "\n",
    "# Выживаемость по полу\n",
    "sns.countplot(x='Survived', hue='Sex', data=df)\n",
    "plt.title('Выживаемость по полу')\n",
    "plt.show()\n",
    "\n",
    "# Распределение возраста\n",
    "sns.histplot(df['Age'].dropna(), bins=30)\n",
    "plt.title('Возраст пассажиров')\n",
    "plt.show()\n"
   ]
  }
 ],
 "metadata": {
  "kernelspec": {
   "display_name": "Python 3",
   "language": "python",
   "name": "python3"
  },
  "language_info": {
   "codemirror_mode": {
    "name": "ipython",
    "version": 3
   },
   "file_extension": ".py",
   "mimetype": "text/x-python",
   "name": "python",
   "nbconvert_exporter": "python",
   "pygments_lexer": "ipython3",
   "version": "3.13.1"
  }
 },
 "nbformat": 4,
 "nbformat_minor": 5
}
